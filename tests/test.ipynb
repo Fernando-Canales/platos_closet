{
 "cells": [
  {
   "cell_type": "code",
   "execution_count": 1,
   "metadata": {},
   "outputs": [],
   "source": [
    "import numpy as np"
   ]
  },
  {
   "cell_type": "code",
   "execution_count": 3,
   "metadata": {},
   "outputs": [],
   "source": [
    "class planets:\n",
    "    \"\"\"_Defines a set of parameters for planets in our solar system_\n",
    "\n",
    "    Args:\n",
    "        name (str): _name of the planet_\n",
    "        depth (int): _transit depth in ppm_\n",
    "        duration (int): _transit duration in hours_\n",
    "        number (int): _number of transits_\n",
    "    \"\"\"\n",
    "    def __init__(self, name, depth, duration, number=3):\n",
    "        \"\"\"\n",
    "        name (str): _name of the planet_\n",
    "        depth (int): _transit depth in parts per million(ppm)_\n",
    "        duration (int): _transit duration in hours_\n",
    "        number (int): _number of transits_\n",
    "        \"\"\"\n",
    "        super().__init__()\n",
    "        \n",
    "        self.name = name\n",
    "        self.depth = depth\n",
    "        self.duration = duration\n",
    "        self.number = number\n",
    "        \n",
    "    def noise_level(self, eta=7.1):\n",
    "        \"\"\"_Function that implements equation 23 in Marchiori et al (2019) paper_\n",
    "\n",
    "        Args:\n",
    "            eta (float, optional): _Statistical significance value adopted for PLATO_. Defaults to 7.1.\n",
    "\n",
    "        Returns:\n",
    "            _nsr_: _noise level of the planet transit signal at detector level_\n",
    "        \"\"\"\n",
    "        nsr = self.depth * np.sqrt(self.duration * self.number) / eta\n",
    "        return nsr\n",
    "    \n",
    "    def is_detectable(self, nsr, nsr_plato = 80):\n",
    "        \"\"\"_Function lets user know if object is detectable\n",
    "\n",
    "        Args:\n",
    "            nsr (int): _int value from .noise_level function_\n",
    "        \n",
    "        Returns:\n",
    "            print statement of: 'Detectable planet' or \n",
    "            'Non detectable planet'\n",
    "        \"\"\"\n",
    "        if nsr > nsr_plato:\n",
    "            return print('Detectable planet')\n",
    "        else:\n",
    "            return print('Non detectable planet')"
   ]
  },
  {
   "cell_type": "code",
   "execution_count": null,
   "metadata": {},
   "outputs": [],
   "source": []
  }
 ],
 "metadata": {
  "kernelspec": {
   "display_name": "codeastro",
   "language": "python",
   "name": "python3"
  },
  "language_info": {
   "codemirror_mode": {
    "name": "ipython",
    "version": 3
   },
   "file_extension": ".py",
   "mimetype": "text/x-python",
   "name": "python",
   "nbconvert_exporter": "python",
   "pygments_lexer": "ipython3",
   "version": "3.10.11"
  },
  "orig_nbformat": 4
 },
 "nbformat": 4,
 "nbformat_minor": 2
}
